{
 "cells": [
  {
   "cell_type": "markdown",
   "id": "28c331ef-c544-4562-8e61-57ce89495c39",
   "metadata": {},
   "source": [
    "# **Modelagem molecular por homologia**"
   ]
  },
  {
   "cell_type": "markdown",
   "id": "69d4dcc7-790c-46ce-8acb-cc5991878601",
   "metadata": {},
   "source": [
    "Se observarmos a quantidade de sequências depositadas no Genbank e compararmos com o número de sequências de proteínas depositadas no Protein Data Bank, nos deparamos com uma enorme discrepância. Infelizmente, ainda não é possível cristalografar todas as proteínas já sequenciadas por falta de mão de obra, pelo alto custo e por nem sempre a proteína ser passiva de ser cristalografada.\n",
    "\n",
    "Como alternativa, surge a molelagem molecular por homologia, pois como o nome do método já diz, utiliza de um proteína já cristalografada para modelar e prever a estrutura tridimensional da proteína alvo, desde que a proteína alvo e a proteína molde sejam homólogas.\n",
    "\n",
    "Ao falar de homologia entre duas sequências (da proteína alvo a ser modelada e do molde - proteína cristalografada), queremos dizer que ambas compartilham de uma estrutura (alfa-helices, beta-pregueadas, regiões de _loop_) semelhante e função bem conservada evolutivamente (ex.: peptidases que tem por função de romper ligações peptídicas)."
   ]
  },
  {
   "cell_type": "markdown",
   "id": "de123e70-bb72-461e-af03-b5c422cae77e",
   "metadata": {},
   "source": [
    "### Utilizando o _software_ **Modeller** para modelar proteínas"
   ]
  },
  {
   "cell_type": "markdown",
   "id": "215c9b64-3dc2-4006-8436-5b4791fb9211",
   "metadata": {},
   "source": [
    "O software Modeller encontra-se na versão 10.4 e pode ser instalado em sistemas operacionais Linux, Windows e Mac. Sua instalação pelo Anaconda Python é muito simples, mas você precisará realizar um cadastro afim de obter a licença do programa."
   ]
  },
  {
   "cell_type": "markdown",
   "id": "55062858-513d-4f17-b8ba-5ac51d87dd2f",
   "metadata": {},
   "source": [
    "Para instalar basta copiar e colar as seguintes linhas em seu CMD (Windows) ou  terminal de comando (Linux ou Mac) e posteriormente executá-las, uma por vez:\n",
    "\n",
    "```conda config --add canans salilab```\n",
    "\n",
    "```conda install modeller```\n",
    "\n",
    "Lembre que durante a instalação você será solicitado para digitar a chave do produto (_Product Key_)."
   ]
  },
  {
   "cell_type": "markdown",
   "id": "71b4f925-e0e5-4916-885b-385ca372f52d",
   "metadata": {},
   "source": [
    "### Antes de praticar"
   ]
  },
  {
   "cell_type": "markdown",
   "id": "5bbcd3d8-072e-4d05-9e5c-b51fdd6195ee",
   "metadata": {},
   "source": [
    "Inicialmente precisamos de uma sequência da proteína alvo para prever ou elucidar a sua estrutura tridimensional. Aqui neste _cookbook_, continuaremos a usar como exemplo a sequência da proteína XPRT (Xantina Fosforribosil Transferase) de _Leishmania donovani_ (ID Genbank: AF170105.1). Esta proteína ainda não possui um modelo cristalográfico depositado no Protein Data Bank (PDB), porém possui proteínas homólogas e que foram depositadas no PDB.\n",
    "\n",
    "A sequência de XPRT encontra-se no arquivo _query_2.fasta_, mas o Modeller não aceita este tipo de arquivo, sendo necessário usar um arquivo em outro formato. Assim, essa sequência será guardada em um arquivo muito semelhante ao fasta, mas no formato _.ali_.\n",
    "\n",
    "A sequência de XPRT está guardada no arquivo _query_2.ali_. Ao observar a estrutura do arquivo _.ali_, iremos perceber na primeira linha a presença de um sinal de maior que (>) indicando o cabeçalho do arquivo, na qual contém o ID e o nome da proteína abreviado.\n",
    "\n",
    "Em seguinda, já na segunda linha, observamos novamente o nome da nossa sequência seguida por pontos e valores iguais a 0,00. O que nos indica que esta sequência não possui estrutura cristalográfica conhecida (afinal, o intuito aqui é elucidar esssa estrutura).\n",
    "\n",
    "Por fim, da terceira linha em diante tem a sequência de aminoácidos da proteína XPRT e ao final dela observamos a presença de um asterísco (_*_) indicando o fim ou o códon de parada.\n",
    "\n",
    "```\n",
    "> AF170105.1; XpRT\n",
    "sequence:XpRT:::::::0.00: 0.00\n",
    "MLPTHSCKGFVDAQGRVFVDGREYPMASGIVATEDVIQTNIKAMAHTIAKDYKSLSHRDARLSPSTAETA\n",
    "EAAEAAEAPISYDNPLIIISVLKGSYIFTSDFIRYLGDCGLPHVVDFVRLASYNSGTKSTGQISMLAGLR\n",
    "FENLRGKHVLIVEDVCDSGRTLRFLRDYIMEKFQPKSIKTLVMVNKEQAARKVDFDPEYFCLAGPNKYIV\n",
    "GYGFEVNDRYRDLRHILILRDGEATRYPAKL*\n",
    "```"
   ]
  },
  {
   "cell_type": "code",
   "execution_count": null,
   "id": "cf6359fd-01ff-4696-a2da-20610ffa8844",
   "metadata": {},
   "outputs": [],
   "source": []
  }
 ],
 "metadata": {
  "kernelspec": {
   "display_name": "Python 3 (ipykernel)",
   "language": "python",
   "name": "python3"
  },
  "language_info": {
   "codemirror_mode": {
    "name": "ipython",
    "version": 3
   },
   "file_extension": ".py",
   "mimetype": "text/x-python",
   "name": "python",
   "nbconvert_exporter": "python",
   "pygments_lexer": "ipython3",
   "version": "3.9.12"
  }
 },
 "nbformat": 4,
 "nbformat_minor": 5
}
