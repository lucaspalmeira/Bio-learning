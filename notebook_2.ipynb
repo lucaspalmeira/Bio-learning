{
 "cells": [
  {
   "cell_type": "markdown",
   "id": "956a2ab6-d142-4c34-9f8f-d4107f9393f3",
   "metadata": {
    "tags": []
   },
   "source": [
    "# **Alinhamento de Sequências**"
   ]
  },
  {
   "cell_type": "markdown",
   "id": "ff9e8eb0-0c19-4344-8743-9381d26b4549",
   "metadata": {},
   "source": [
    "### Alinhamento **_Pairwise_**"
   ]
  },
  {
   "cell_type": "markdown",
   "id": "35a3f4e5-8cac-4b92-948b-152cb6382197",
   "metadata": {},
   "source": [
    "No Biopython temos a possibilidade de realizar um alinhamento par a par entre duas sequências utilizando o algoritmo **Needleman-Wunsch**. Este algoritmo cria uma matriz de penalidade na qual um _gap_ e ou a não correspondência entre um par de nucleotídeos ou de amininoácidos são penalisados. Assim, de acordo com a melhor pontuação (**_Score_**) será retornado o melhor alinhamento."
   ]
  },
  {
   "cell_type": "code",
   "execution_count": 1,
   "id": "b62c415f-6cdf-4941-b561-6774cb02e207",
   "metadata": {},
   "outputs": [
    {
     "name": "stdout",
     "output_type": "stream",
     "text": [
      "MKQHKAMI----V-ALIVICITAVVAALVTRK-DLCE-VHIRTGQTEVAVF\n",
      "||  |   ||  | |||||||||||||||||  |||  |||||||||||||\n",
      "MK--K-----KLVIALIVICITAVVAALVTR-YDLC-KVHIRTGQTEVAVF\n",
      "  Score=37\n",
      "\n"
     ]
    },
    {
     "name": "stderr",
     "output_type": "stream",
     "text": [
      "/home/lucas-sci/anaconda3/lib/python3.9/site-packages/Bio/pairwise2.py:278: BiopythonDeprecationWarning: Bio.pairwise2 has been deprecated, and we intend to remove it in a future release of Biopython. As an alternative, please consider using Bio.Align.PairwiseAligner as a replacement, and contact the Biopython developers if you still need the Bio.pairwise2 module.\n",
      "  warnings.warn(\n"
     ]
    }
   ],
   "source": [
    "from Bio.pairwise2 import align\n",
    "from Bio.pairwise2 import format_alignment\n",
    "\n",
    "seq1 = \"MKQHKAMIVALIVICITAVVAALVTRKDLCEVHIRTGQTEVAVF\"\n",
    "seq2 = \"MKK--KLVIALIVICITAVVAALVTRYDLCKVHIRTGQTEVAVF\"\n",
    "\n",
    "alignments = align.globalxx(seq1, seq2)\n",
    "print(format_alignment(*alignments[0]))"
   ]
  },
  {
   "cell_type": "markdown",
   "id": "302bee6d-275b-4bc5-8dd2-6ff2badf2ca8",
   "metadata": {},
   "source": [
    "A função **format_alignment** permite que a saída seja formatada para que sejam exibidas as correspondências, gaps (ou lacunas) bem como a semelhanças entre duas bases nucleotídicas ou aminoácidos.\n",
    "\n",
    "Os gaps são representados por ífens (**-**), enquanto que as correspondências entre os aminoácidos são representados por barras (**|**). Se houvessem dois pontos (**:**), então isso significaria que os pares de bases ou de aminoácidos são semelhantes, mas não iguais (por exemplo, se os aminoácidos fenilalanina e tirosina estivessem alinhados), demonstrando assim a correspondência entre similares."
   ]
  },
  {
   "cell_type": "markdown",
   "id": "44a47688-79ff-4b2c-a31a-294002fa3b80",
   "metadata": {},
   "source": [
    "### Alinhamento múltiplo utilizando o **_ClustalW_** e o **_Muscle_**"
   ]
  },
  {
   "cell_type": "markdown",
   "id": "6feffe18-4d70-4ec8-88ba-ac34d4d0c95b",
   "metadata": {},
   "source": [
    "Os algoritmos _ClustalW_ (http://www.clustal.org/) e _Muscle_ (http://www.drive5.com/muscle/) são de alinhamento múltiplo, ou seja, permitem que o usário realize o alinhamento de duas ou mais sequências. Ambos algoritmos realizam alinhamento global, assim as sequências são alinhadas em sua totalidade a fim de se encontrar a correspndência global entre elas."
   ]
  },
  {
   "cell_type": "markdown",
   "id": "c0b097b1-1758-42d0-b3f0-a279e19ad6da",
   "metadata": {},
   "source": [
    "#### Executando o ClustalW"
   ]
  },
  {
   "cell_type": "markdown",
   "id": "5f538119-9beb-438a-bc1d-04576bb1a6a6",
   "metadata": {},
   "source": [
    "Para utilizar o Clustal, será necessário instalar o programa eu seu desktop. Para isso, acesse a página de downloads do site oficial do Clustal: http://www.clustal.org/download.\n",
    "\n",
    "Se você utiliza o sistema operacional Windowns, faça o download do executável (clustalw-2.1-win.msi) e execute-o como administrador. Siga os passos para instalação e após instalado siga os próximos passos do notebook.\n",
    "\n",
    "Você também pode instalar o ClustalW através do gerenciador Anaconda (https://anaconda.org/bioconda/clustalw), desde que você tenha também instalado em seu desktop o Anaconda."
   ]
  },
  {
   "cell_type": "code",
   "execution_count": 2,
   "id": "f5ad18ef-4146-4605-99e4-e6370de197fc",
   "metadata": {},
   "outputs": [
    {
     "name": "stdout",
     "output_type": "stream",
     "text": [
      "Alignment with 5 rows and 306 columns\n",
      "MGSSHHHHHHDYDIPTTENLYFQGHMASMTGGQQMGRGSHSGHP...--- 6AR9_B\n",
      "MGSSHHHHHHDYDIPTTENLYFQGHMASMTGGQQMGRGSHSGHP...--- 6AQO_A\n",
      "MGSSHHHHHHDYDIPTTENLYFQGHMASMTGGQQMGRGSHSGHP...--- 7SCR_A\n",
      "------------MLPT--------------------------HS...--- AAD50967.1\n",
      "--------------------------------------------...SKY 1TC1_A\n"
     ]
    }
   ],
   "source": [
    "# Importar a biblioteca BioPython\n",
    "from Bio import AlignIO\n",
    "from Bio.Align.Applications import ClustalwCommandline\n",
    "\n",
    "\n",
    "# Criar um objeto ClustalwCommandline com o caminho do executável do ClustalW e o nome do arquivo de entrada\n",
    "clustalw = ClustalwCommandline(\"clustalw2\", infile=\"query_3.fasta\")\n",
    "\n",
    "# Executar o comando Clustalw e capturar a saída e o erro\n",
    "stdout, stderr = clustalw()\n",
    "\n",
    "# Ler o arquivo de alinhamento gerado pelo Clustalw no formato clustal\n",
    "align = AlignIO.read(\"query_3.aln\", \"clustal\")\n",
    "\n",
    "# Imprimir o alinhamento na tela\n",
    "print(align)"
   ]
  },
  {
   "cell_type": "markdown",
   "id": "b6ef08b8-d558-4196-b9d2-96006824642f",
   "metadata": {},
   "source": [
    "Ao abrir o arquivo **_query_3.aln_** você notará que na presença de asteríscos (*) significa que ouve correspondência entre todos os aminoácidos naquela posição. Quando há dois pontos (:) os aminoácidos não são iguais, porém há uma alta correspondência. No caso da presença de pontos (.), significa que os aminoácidos não possuem correspondência.\n",
    "\n",
    "* Nota: Estes caractéres também são aplicados em um alinhamento de sequências de nucleotídeos."
   ]
  },
  {
   "cell_type": "markdown",
   "id": "09a724d8-2ef7-4425-823a-487c7870c256",
   "metadata": {},
   "source": [
    "#### Executando o Muscle"
   ]
  },
  {
   "cell_type": "markdown",
   "id": "6c40a768-5f38-4f87-8f9f-0b41240c661f",
   "metadata": {},
   "source": [
    "Para utilizar o Muscle, será necessário instalar o programa eu seu desktop. Para isso, acesse a página de downloads do site oficial do Muscle: https://www.drive5.com/muscle/.\n",
    "\n",
    "Se você utiliza o sistema operacional Windowns, faça o download do executável (muscle5.1.win64.exe) e execute-o como administrador. Siga os passos para instalação e após instalado siga os próximos passos do notebook.\n",
    "\n",
    "Você também pode instalar o Muscle através do gerenciador Anaconda (https://anaconda.org/bioconda/muscle), desde que você tenha também instalado em seu desktop o Anaconda."
   ]
  },
  {
   "cell_type": "code",
   "execution_count": 3,
   "id": "92be2ace-6141-45a1-99c8-96ce913052e3",
   "metadata": {},
   "outputs": [
    {
     "name": "stdout",
     "output_type": "stream",
     "text": [
      "Alignment with 5 rows and 306 columns\n",
      "--------------------------------------------...SKY 1TC1_A\n",
      "------------MLPTHSCKGFV---------------------...AKL AAD50967.1\n",
      "MGSSHHHHHHDYDIPTTENLYFQGHMASMTGGQQMGRGSHSGHP...SKL 7SCR_A\n",
      "MGSSHHHHHHDYDIPTTENLYFQGHMASMTGGQQMGRGSHSGHP...SKL 6AQO_A\n",
      "MGSSHHHHHHDYDIPTTENLYFQGHMASMTGGQQMGRGSHSGHP...SKL 6AR9_B\n"
     ]
    }
   ],
   "source": [
    "from Bio.Align.Applications import MuscleCommandline\n",
    "from Bio import SeqIO\n",
    "from Bio import AlignIO\n",
    "\n",
    "# Leitura das sequências do arquivo fasta\n",
    "sequences = SeqIO.parse(\"query_3.fasta\", \"fasta\")\n",
    "\n",
    "# Executando o MUSCLE para alinhamento das sequências\n",
    "muscle_cline = MuscleCommandline(input=\"query_3.fasta\")\n",
    "stdout, stderr = muscle_cline()\n",
    "\n",
    "# Gravando o resultado do alinhamento em um arquivo fasta\n",
    "with open(\"alinhamento.fasta\", \"w\") as file:\n",
    "    file.write(stdout)\n",
    "\n",
    "align = AlignIO.read(\"alinhamento.fasta\", \"fasta\")\n",
    "print(align)"
   ]
  },
  {
   "cell_type": "code",
   "execution_count": null,
   "id": "50b324df-94ba-481a-a7cc-2d2e99e0cc94",
   "metadata": {},
   "outputs": [],
   "source": []
  }
 ],
 "metadata": {
  "kernelspec": {
   "display_name": "Python 3 (ipykernel)",
   "language": "python",
   "name": "python3"
  },
  "language_info": {
   "codemirror_mode": {
    "name": "ipython",
    "version": 3
   },
   "file_extension": ".py",
   "mimetype": "text/x-python",
   "name": "python",
   "nbconvert_exporter": "python",
   "pygments_lexer": "ipython3",
   "version": "3.9.12"
  }
 },
 "nbformat": 4,
 "nbformat_minor": 5
}
