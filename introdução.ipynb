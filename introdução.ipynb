{
 "cells": [
  {
   "cell_type": "markdown",
   "id": "0567ca40",
   "metadata": {},
   "source": [
    "## Bem vindo ao Bio-learning "
   ]
  },
  {
   "cell_type": "markdown",
   "id": "29e11eed",
   "metadata": {},
   "source": [
    "O Bio-learning dedica-se a ser um projeto para servir de tutoriais ou práticas de bioinformática na forma de _cookbooks_ para professores e alunos pertencentes a cursos de Ciências da Vida, em especial Biologia Molecular. A partir daqui, o usuário receberá instrunções iniciais para aprender o básico da linguagem de programação Python."
   ]
  },
  {
   "cell_type": "markdown",
   "id": "e958981c",
   "metadata": {},
   "source": [
    "### Instalação do Python"
   ]
  },
  {
   "cell_type": "markdown",
   "id": "db874fb2",
   "metadata": {},
   "source": [
    "Instação da linguagem de programação Python versão 3.9. Faça o Download da versão disponível em https://www.python.org/downloads/, de acordo com o sistema operacional do usário.\n",
    "\n",
    "Para instalar no Windows basta realizar o download do arquivo _python-3.9-amd64.exe_ e executá-lo como adiministrador e seguir os passos de instalação do próprio instalador.\n",
    "\n",
    "Para usuários Linux, abra seu terminal, digite e execute o seguinte comando:\n",
    "\n",
    "```sudo apt-get install python3```\n",
    "\n",
    "Ao executar, irá pedir sua senha e então dará início a instalação."
   ]
  },
  {
   "cell_type": "markdown",
   "id": "cbf060a8",
   "metadata": {},
   "source": [
    "### Instalação do Anaconda Python e Jupyter Notebook"
   ]
  },
  {
   "cell_type": "markdown",
   "id": "ca3f7593",
   "metadata": {},
   "source": [
    "No Windows, para instalar o Anaconda Python (um gerenciador de pacotes e bibliotecas) faça o download do arquivo executável (https://repo.anaconda.com/archive/Anaconda3-2023.03-1-Windows-x86_64.exe) e execute-o como administrador.\n",
    "\n",
    "No Linux, faça o download de um arquivo bash (extensão .sh) e execute-o em ser terminal executando os seguintes comandos:\n",
    "\n",
    "\n",
    "```wget https://repo.anaconda.com/archive/Anaconda3-2023.03-1-Linux-x86_64.sh```\n",
    "Para fazer o download do Anaconda.\n",
    "\n",
    "```bash Anaconda3-2023.03-1-Linux-x86_64.sh```\n",
    "\n",
    "Para fazer a instalção do Anaconda.\n",
    "\n",
    "\n",
    "Ao instalar o gerenciador Anaconda, o Jupyter Notebook já virá instalado por padrão."
   ]
  },
  {
   "cell_type": "markdown",
   "id": "cc29c4e0",
   "metadata": {},
   "source": [
    "### Como utilizar o Jupyter Notebook?"
   ]
  },
  {
   "cell_type": "markdown",
   "id": "cf2c0162",
   "metadata": {},
   "source": [
    "Em seu teminal (linux) ou CMD (Windows), execute o comando:\n",
    "\n",
    "```jupyter notebook```\n",
    "\n",
    "Assim, será executado na forma de aplicativo web, tornando-se um ambiente de desenvolvimento ideal para executar os scripts em um fluxograma bem organizado.\n",
    "\n",
    "O jupyter notebook permite que seja executado os scripts ou marcações (markdown) em células. Ou seja, esta célula que você está lendo está escrita em markdown, se você cliar nesta célula com o botão esquerdo mouse duas vezes poderá editá-la. Após editar, você poderá executá-la apenas apertando em seu teclado as teclas Shift e Enter ao mesmo tempo (Shif+Enter). Também utilizando estas mesmas teclas você poderá executar as células onde há código ou scripts em Python."
   ]
  },
  {
   "cell_type": "markdown",
   "id": "44c5a213",
   "metadata": {},
   "source": [
    "### Primeiros passos"
   ]
  },
  {
   "cell_type": "code",
   "execution_count": 1,
   "id": "ed4e7b56",
   "metadata": {},
   "outputs": [
    {
     "name": "stdout",
     "output_type": "stream",
     "text": [
      "olá mundo!\n"
     ]
    }
   ],
   "source": [
    "# Imprimir na tela\n",
    "\n",
    "print(\"olá mundo!\")"
   ]
  },
  {
   "cell_type": "markdown",
   "id": "8a289e0b",
   "metadata": {},
   "source": [
    "A função print tem por função de imprimir na tela algum valor. Sim, ao executar _print(\"olá mundo\")_ você já está programando!"
   ]
  },
  {
   "cell_type": "code",
   "execution_count": 2,
   "id": "37b79a65",
   "metadata": {},
   "outputs": [
    {
     "name": "stdout",
     "output_type": "stream",
     "text": [
      "2\n"
     ]
    }
   ],
   "source": [
    "# Também podemos imprimir números\n",
    "\n",
    "print(2)"
   ]
  },
  {
   "cell_type": "code",
   "execution_count": 3,
   "id": "cc32f8b0",
   "metadata": {},
   "outputs": [
    {
     "name": "stdout",
     "output_type": "stream",
     "text": [
      "4\n"
     ]
    }
   ],
   "source": [
    "# Ou então podemos somar realizar operações matemáticas\n",
    "print(2+2)"
   ]
  },
  {
   "cell_type": "markdown",
   "id": "1163f88e",
   "metadata": {},
   "source": [
    "Note que quando estamos lidando com números ou operações matemáticas não temos a necessidade de colocas aspas (\" \"), pois estamos lidando com números inteiros, em Python isso quer dizer que possui o valor do tipo _int_. Caso tenha aspas, quer dizer que estamos lidando com valores do tipo _string_, por exemplo ao imprimir a frase \"olá mundo!\"."
   ]
  },
  {
   "cell_type": "markdown",
   "id": "77e81f44",
   "metadata": {},
   "source": [
    "Para saber se estamos lidando com valores int ou string basta utilizarmos o método _type_:"
   ]
  },
  {
   "cell_type": "code",
   "execution_count": 4,
   "id": "111bf14f",
   "metadata": {},
   "outputs": [
    {
     "name": "stdout",
     "output_type": "stream",
     "text": [
      "<class 'int'>\n",
      "<class 'str'>\n"
     ]
    }
   ],
   "source": [
    "print(type(1))\n",
    "print(type(\"olá mundo!\"))"
   ]
  },
  {
   "cell_type": "markdown",
   "id": "8b61e360",
   "metadata": {},
   "source": [
    "Além de somar números também podemos somar _strings_."
   ]
  },
  {
   "cell_type": "code",
   "execution_count": 6,
   "id": "69d83b79",
   "metadata": {},
   "outputs": [
    {
     "name": "stdout",
     "output_type": "stream",
     "text": [
      "olámundo!\n"
     ]
    }
   ],
   "source": [
    "print(\"olá\" + \"mundo!\")"
   ]
  },
  {
   "cell_type": "code",
   "execution_count": 7,
   "id": "1d9de3e2",
   "metadata": {},
   "outputs": [
    {
     "name": "stdout",
     "output_type": "stream",
     "text": [
      "ATCGAGTC\n"
     ]
    }
   ],
   "source": [
    "print(\"ATCG\" + \"AGTC\")"
   ]
  },
  {
   "cell_type": "markdown",
   "id": "6bd7e55f",
   "metadata": {},
   "source": [
    "Podemos também criar variáveis e guardar nelas algum valor (int ou string)"
   ]
  },
  {
   "cell_type": "code",
   "execution_count": 9,
   "id": "2401e5bc",
   "metadata": {},
   "outputs": [],
   "source": [
    "# ao lermos isso, dizemos que as variáveis num e string receberam como \n",
    "# valor o inteiro 15 e a string ATCG como valores respectivamente.\n",
    "\n",
    "num = 15\n",
    "\n",
    "string = \"ATCG\""
   ]
  },
  {
   "cell_type": "code",
   "execution_count": 17,
   "id": "ecb5417c",
   "metadata": {},
   "outputs": [
    {
     "name": "stdout",
     "output_type": "stream",
     "text": [
      "15\n",
      "A variável num é do tipo <class 'int'>\n",
      "\n",
      "ATCG\n",
      "A variável string é do tipo <class 'str'>\n",
      "\n",
      "15 ATCG\n"
     ]
    }
   ],
   "source": [
    "# podemos imprimir cada variável agora\n",
    "\n",
    "print(num)\n",
    "print(\"A variável num é do tipo\", type(num))\n",
    "print()\n",
    "print(string)\n",
    "print(\"A variável string é do tipo\", type(string))\n",
    "print()\n",
    "print(num, string)\n",
    "\n",
    "# quando duas ou mais variaveis será imprimidas é necessário separá-las com uma vírgula."
   ]
  },
  {
   "cell_type": "markdown",
   "id": "ccd77bfd",
   "metadata": {},
   "source": [
    "Dependendo das necessidades do usuário, algumas funções para serem realizadas dependerão do uso de alguma biblioteca para ser executada. Por exemplo, quando queremos calcular a raiz quadrada de um número podemos utilizar a biblioteca _math_."
   ]
  },
  {
   "cell_type": "code",
   "execution_count": 18,
   "id": "bb78bf46",
   "metadata": {},
   "outputs": [
    {
     "data": {
      "text/plain": [
       "5.0"
      ]
     },
     "execution_count": 18,
     "metadata": {},
     "output_type": "execute_result"
    }
   ],
   "source": [
    "# Para isso, utilizamos o import\n",
    "\n",
    "import math\n",
    "\n",
    "math.sqrt(25)"
   ]
  },
  {
   "cell_type": "markdown",
   "id": "3881b7ce",
   "metadata": {},
   "source": [
    "Mas desta biblioteca podemos apenas importar esse método sqrt para realizar a operação matemática."
   ]
  },
  {
   "cell_type": "code",
   "execution_count": 19,
   "id": "d4412fa1",
   "metadata": {},
   "outputs": [
    {
     "data": {
      "text/plain": [
       "8.0"
      ]
     },
     "execution_count": 19,
     "metadata": {},
     "output_type": "execute_result"
    }
   ],
   "source": [
    "from math import sqrt\n",
    "\n",
    "sqrt(64)"
   ]
  },
  {
   "cell_type": "markdown",
   "id": "29c262ec",
   "metadata": {},
   "source": [
    "Ter essa noção de importar uma classe e método da biblioteca de interesse ou a própria biblioteca como um todo é importante para compreender melhor os scripts dos próximos notebooks."
   ]
  },
  {
   "cell_type": "markdown",
   "id": "3f18f092",
   "metadata": {},
   "source": [
    "Também podemos maniular arquivos com o python, utilizando a função _open_."
   ]
  },
  {
   "cell_type": "code",
   "execution_count": 23,
   "id": "0bae735c",
   "metadata": {},
   "outputs": [
    {
     "name": "stdout",
     "output_type": "stream",
     "text": [
      "<class '_io.TextIOWrapper'>\n",
      ">AAD50967.1 xanthine phosphoribosyltransferase XPRT [Leishmania donovani]\n",
      "MLPTHSCKGFVDAQGRVFVDGREYPMASGIVATEDVIQTNIKAMAHTIAKDYKSLSHRDARLSPSTAETA\n",
      "EAAEAAEAPISYDNPLIIISVLKGSYIFTSDFIRYLGDCGLPHVVDFVRLASYNSGTKSTGQISMLAGLR\n",
      "FENLRGKHVLIVEDVCDSGRTLRFLRDYIMEKFQPKSIKTLVMVNKEQAARKVDFDPEYFCLAGPNKYIV\n",
      "GYGFEVNDRYRDLRHILILRDGEATRYPAKL\n"
     ]
    }
   ],
   "source": [
    "with open(\"query_2.fasta\") as file:\n",
    "    print(type(file))\n",
    "    # o uso do \"as\" significa que\n",
    "    # estamos que guardando o conteúdo\n",
    "    # do arquivo em uma variável apelidada\n",
    "    # de \"file\"\n",
    "    \n",
    "    texto = file.readlines()\n",
    "    # \n",
    "    for line in texto:\n",
    "        # apenas será exibida as 7 primeiras linhas do arquivo\n",
    "        print(line.rstrip())"
   ]
  },
  {
   "cell_type": "code",
   "execution_count": null,
   "id": "67a2e1de",
   "metadata": {},
   "outputs": [],
   "source": []
  }
 ],
 "metadata": {
  "kernelspec": {
   "display_name": "Python 3 (ipykernel)",
   "language": "python",
   "name": "python3"
  },
  "language_info": {
   "codemirror_mode": {
    "name": "ipython",
    "version": 3
   },
   "file_extension": ".py",
   "mimetype": "text/x-python",
   "name": "python",
   "nbconvert_exporter": "python",
   "pygments_lexer": "ipython3",
   "version": "3.10.9"
  }
 },
 "nbformat": 4,
 "nbformat_minor": 5
}
