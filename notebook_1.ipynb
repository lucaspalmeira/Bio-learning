{
 "cells": [
  {
   "cell_type": "markdown",
   "id": "26327868-eea1-4490-9ca5-727e4cc528d7",
   "metadata": {
    "tags": []
   },
   "source": [
    "# **INTRODUÇÃO AO BIOPYTHON**"
   ]
  },
  {
   "cell_type": "markdown",
   "id": "7fd6b5fb-e1b2-4a93-a6f1-222f47479195",
   "metadata": {},
   "source": [
    "Por estarmos utilizando o Jupyter Notebook, então consequentemente estamos usando a linguagem de programação Python em sua versão 3.9.\n",
    "\n",
    "Para realizar o alinhamento de sequências, inicialmente faremos uso da biblioteca Biopython. Esta biblioteca escrita em Python possui um conjunto de ferramentas que possibilita realizar o tratamento e exploração de dados biológicos.\n",
    "\n",
    "Para instalar é necessário executar o seguinte comando:"
   ]
  },
  {
   "cell_type": "code",
   "execution_count": 2,
   "id": "8288bf11-97d9-46d5-9a12-ae362b7d88c5",
   "metadata": {},
   "outputs": [
    {
     "name": "stdout",
     "output_type": "stream",
     "text": [
      "Collecting biopython\n",
      "  Downloading biopython-1.81-cp310-cp310-manylinux_2_17_x86_64.manylinux2014_x86_64.whl (3.1 MB)\n",
      "\u001b[2K     \u001b[38;2;114;156;31m━━━━━━━━━━━━━━━━━━━━━━━━━━━━━━━━━━━━━━━━\u001b[0m \u001b[32m3.1/3.1 MB\u001b[0m \u001b[31m2.0 MB/s\u001b[0m eta \u001b[36m0:00:00\u001b[0mm eta \u001b[36m0:00:01\u001b[0m0:01\u001b[0m:01\u001b[0m\n",
      "\u001b[?25hRequirement already satisfied: numpy in /home/lucas-sci/anaconda3/lib/python3.10/site-packages (from biopython) (1.23.5)\n",
      "Installing collected packages: biopython\n",
      "Successfully installed biopython-1.81\n"
     ]
    }
   ],
   "source": [
    "!pip install biopython"
   ]
  },
  {
   "cell_type": "markdown",
   "id": "5e8961c1-f2bf-4944-bd40-cd2325d7bb55",
   "metadata": {},
   "source": [
    "Note que ao instalar você observará essa saída com uma mensagem final de que foi instalado com sucesso. Caso deseje desistalar a biblioteca, execute em seu CMD (Windows) ou Terminal (Linux):"
   ]
  },
  {
   "cell_type": "markdown",
   "id": "0b432219-ccc4-4a64-812c-2c1a0899bffe",
   "metadata": {},
   "source": [
    "```pip uninstall biopython```"
   ]
  },
  {
   "cell_type": "markdown",
   "id": "f45a2039-4234-41d6-9e1d-3c1bc2cdfae9",
   "metadata": {},
   "source": [
    "Tanto para instalar um pacote quanto para desinstalar é necessário que tenha a exclamação (!) no início do comando, fazendo assim parte da sintaxe. Ou seja, qualquer comando que normalmente seria executado em um terminal linux deverá ser precedido pela exclamação para que seja executado no próprio notebook do Jupyter."
   ]
  },
  {
   "cell_type": "markdown",
   "id": "8cb7317d-b0b3-4056-abd4-78fbb7add840",
   "metadata": {},
   "source": [
    "O usuário poderá verificar a versão do Biopython instalado através do seguinte código:"
   ]
  },
  {
   "cell_type": "code",
   "execution_count": 1,
   "id": "9e222d44-1ecd-455b-8123-85d6809e07e5",
   "metadata": {},
   "outputs": [
    {
     "name": "stdout",
     "output_type": "stream",
     "text": [
      "1.81\n",
      "7.6.5\n"
     ]
    }
   ],
   "source": [
    "import Bio\n",
    "import ipywidgets\n",
    "print(Bio.__version__)\n",
    "print(ipywidgets.__version__)"
   ]
  },
  {
   "cell_type": "markdown",
   "id": "fb195e64-3cd1-4a57-914c-23ccab3b3981",
   "metadata": {},
   "source": [
    "### Análise de sequências"
   ]
  },
  {
   "cell_type": "markdown",
   "id": "509c00de-fc94-43ab-9051-4f8211325ec5",
   "metadata": {},
   "source": [
    "Agora que você usuário já possui o Biopython instalado, então poderemos realizar a importação de alguns módulos da biblioteca para que seja explorada uma determinada sequência de nucleotídeos ou de aminoácidos. Para isso, execute as células a seguir:"
   ]
  },
  {
   "cell_type": "code",
   "execution_count": 3,
   "id": "1dbb35e1-8f5f-453a-a0b9-77db6e673317",
   "metadata": {},
   "outputs": [],
   "source": [
    "# Da biblioteca Bio.seq importe o método \"seq\"\n",
    "from Bio.Seq import Seq"
   ]
  },
  {
   "cell_type": "code",
   "execution_count": 4,
   "id": "1ebd5077-95c6-4b17-b9ad-12da93cdca36",
   "metadata": {},
   "outputs": [],
   "source": [
    "# criar uma variável que recebe a sequência de nucleotídeos a ser analisada\n",
    "\n",
    "minha_seq = Seq(\"CATGTAGACTAG\")"
   ]
  },
  {
   "cell_type": "code",
   "execution_count": 5,
   "id": "6b2c0133-dcd7-477b-9258-0a95d03b536b",
   "metadata": {},
   "outputs": [
    {
     "name": "stdout",
     "output_type": "stream",
     "text": [
      "A sequência CATGTAGACTAG possui 12 bases de comprimento.\n",
      "A sequência complementar é GTACATCTGATC.\n",
      "A sequência reversa complementar é CTAGTCTACATG.\n",
      "A sequência de aminoácidos traduzida é HVD*.\n"
     ]
    }
   ],
   "source": [
    "# Aqui vamos imprimir algumas informações da nossa sequência alvo (minha_seq).\n",
    "\n",
    "print(f\"A sequência {minha_seq} possui {len(minha_seq)} bases de comprimento.\")\n",
    "print(f\"A sequência complementar é {minha_seq.complement()}.\")\n",
    "print(f\"A sequência reversa complementar é {minha_seq.reverse_complement()}.\")\n",
    "print(f\"A sequência de aminoácidos traduzida é {minha_seq.translate()}.\")"
   ]
  },
  {
   "cell_type": "markdown",
   "id": "86cffb98-b1cc-43f6-9157-6212c036839b",
   "metadata": {},
   "source": [
    "O asterísco (*) indica o término da sequência proteica ou de aminoácidos."
   ]
  },
  {
   "cell_type": "markdown",
   "id": "4b4c534c-021e-4352-8f83-3e604a0bb25d",
   "metadata": {
    "tags": []
   },
   "source": [
    "### Abrindo um arquivo fasta (.fasta)"
   ]
  },
  {
   "cell_type": "code",
   "execution_count": 6,
   "id": "c31bc326-fc3e-4a20-bee4-d11fef1a78fa",
   "metadata": {},
   "outputs": [
    {
     "name": "stdout",
     "output_type": "stream",
     "text": [
      ">AF170105.1 Leishmania donovani hypoxanthine-guanine phosphoribosyltransferase HGPRT (hgprt) and xanthine phosphoribosyltransferase XPRT (xprt) genes, complete cds\n",
      "GGAATTCAGTGTGCGTGCACCCATAAATATACATTTAAGTCCACATCACAGCGACTCAACGATCTTGCTC\n",
      "GATCCCTCCTCCCTCCCTTCTTCCCTCTCTGTGAATCCTCGCTTACTCTCATGTGTATGGAAGCAACCAT\n",
      "TATCCATCAGACCCCACCTCTCTTTTCCTTTACCTTCACTATCCCATGAGCAACTCGGCCAAGTCGCCCT\n",
      "CCGGCCCCGTCGGTGATGAGGGGCGGCGCAACTATCCGATGTCAGCCCACACCCTCGTCACACAGGAGCA\n",
      "GGTGTGGGCCGCCACGGCGAAGTGCGCAAAGAAGATTGCAGAGGACTACAGAAGTTTTAAGTTGACGACC\n",
      "GACAACCCGCTCTACCTGCTGTGCGTGCTCAAGGGCAGCTTCATCTTCACGGCCGACCTTGCCCGCTTTC\n"
     ]
    }
   ],
   "source": [
    "# Abrindo utilizando apenas funções built-in do Python\n",
    "\n",
    "with open('query_1.fasta', 'r') as file:\n",
    "    lines = file.readlines()\n",
    "    for line in lines[:7]:\n",
    "        # apenas será exibida as 7 primeiras linhas do arquivo\n",
    "        print(line.rstrip())"
   ]
  },
  {
   "cell_type": "markdown",
   "id": "08950f5a-3e6b-48a5-a80c-b4775dc19aa3",
   "metadata": {},
   "source": [
    "É importante entender a estrutura de uma arquivo fasta. A primeira linha do arquivo fasta sempre o primeiro caractere é um sinal de maior que (**>**). Indicando assim o cabeçalho do arquivo, onde contém informações como o código ou ID da sequência, o organismo, o nome do gene e entre outras informações. Após a primeira linha é que podemos observar a sequência, seja ela de nucleotídeos ou aminoácidos."
   ]
  },
  {
   "cell_type": "code",
   "execution_count": 7,
   "id": "87c8f1e9-704b-4a61-a5b5-e1132b0068bb",
   "metadata": {},
   "outputs": [],
   "source": [
    "# Da biblioteca Bio importe o método \"SeqIO\"\n",
    "from Bio import SeqIO"
   ]
  },
  {
   "cell_type": "code",
   "execution_count": 8,
   "id": "912d3634-1dc9-4a55-99e2-6af17c1730de",
   "metadata": {},
   "outputs": [
    {
     "name": "stdout",
     "output_type": "stream",
     "text": [
      "AF170105.1\n",
      "Seq('GGAATTCAGTGTGCGTGCACCCATAAATATACATTTAAGTCCACATCACAGCGA...CAG')\n",
      "4362\n"
     ]
    }
   ],
   "source": [
    "for seq_record in SeqIO.parse(\"query_1.fasta\", \"fasta\"):\n",
    "    print(seq_record.id)\n",
    "    print(repr(seq_record.seq))\n",
    "    print(len(seq_record))"
   ]
  },
  {
   "cell_type": "markdown",
   "id": "dac6cf87-6bb6-4d8e-a477-610f48bccc0b",
   "metadata": {},
   "source": [
    "Observe que ao imprimir **se_record.id** é retornado o ID dessa sequência. Além disso, parte da sequência é retornada e, além disso, por último a quantidade de bases nucleotídicas. Seguiremos com um exemplo de um arquivo fasta, porém com uma sequência de aminoácidos."
   ]
  },
  {
   "cell_type": "code",
   "execution_count": 9,
   "id": "367cdc7c-5acf-47bc-944b-94f264405b50",
   "metadata": {},
   "outputs": [
    {
     "name": "stdout",
     "output_type": "stream",
     "text": [
      "AAD50967.1\n",
      "Seq('MLPTHSCKGFVDAQGRVFVDGREYPMASGIVATEDVIQTNIKAMAHTIAKDYKS...AKL')\n",
      "241\n"
     ]
    }
   ],
   "source": [
    "for seq_record in SeqIO.parse('query_2.fasta', 'fasta'):\n",
    "    print(seq_record.id)\n",
    "    print(repr(seq_record.seq))\n",
    "    print(len(seq_record))"
   ]
  },
  {
   "cell_type": "markdown",
   "id": "b3dcc945-4a80-4736-8daa-157055e24d38",
   "metadata": {},
   "source": [
    "Novamente, ao imprimir **se_record.id** obtêm o ID da sequência de consulta, neste caso **AAD50967.1**. Em seguida é retornado parte da sequência de aminoácidos da proteína. E por último é retornada a quantidade de aminoácidos, que neste caso são 241. Ultilizando este ID é possível realizar a busca desta proteína no NCBI (https://www.ncbi.nlm.nih.gov/). Lá você poderá obter outras informações úteis acerca desta sequência."
   ]
  },
  {
   "cell_type": "markdown",
   "id": "98eb40de-5dfc-4312-8fea-9678b01b836e",
   "metadata": {},
   "source": [
    "No notebook 2 será introduzida a realização de alinhamentos de sequências de nucleotídeos ou aminoácidos."
   ]
  }
 ],
 "metadata": {
  "kernelspec": {
   "display_name": "Python 3 (ipykernel)",
   "language": "python",
   "name": "python3"
  },
  "language_info": {
   "codemirror_mode": {
    "name": "ipython",
    "version": 3
   },
   "file_extension": ".py",
   "mimetype": "text/x-python",
   "name": "python",
   "nbconvert_exporter": "python",
   "pygments_lexer": "ipython3",
   "version": "3.10.9"
  }
 },
 "nbformat": 4,
 "nbformat_minor": 5
}
