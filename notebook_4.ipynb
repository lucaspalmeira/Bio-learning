{
 "cells": [
  {
   "cell_type": "markdown",
   "id": "8f4c3836-1df2-40ee-97a4-9e87162890e1",
   "metadata": {},
   "source": [
    "# **Visualização**"
   ]
  },
  {
   "cell_type": "markdown",
   "id": "5e8664f2-5c23-4842-aaa2-795c3b2eec01",
   "metadata": {
    "tags": []
   },
   "source": [
    "Neste notebook, trataremos sobre o uso de Python para a visualização de moléculas, em especial proteínas.\n",
    "\n",
    "Utilizando a biblioteca Nglview (https://github.com/nglviewer/nglview), podemos visualizar moléculas através do Jupyter Notebook. A representação de biomoléculas de forma tridimensional pode ter o poder de diminuir a abstração acerca do conhecimento sobre proteínas. Assim, criar formas de representá-las tornam-se importantes para elucidação destas estruturas tridimensionais."
   ]
  },
  {
   "cell_type": "markdown",
   "id": "1d6be012-2e23-4737-8c34-4a41caf9a427",
   "metadata": {},
   "source": [
    "Para instalar o usuário poderá utilizar dos seguintes comandos abaixo:\n",
    "\n",
    "```pip install nglview```\n",
    "\n",
    "ou\n",
    "\n",
    "```conda install nglview -c conda-forge```\n",
    "\n",
    "Além de ser necessário instalar o ipywidgets:\n",
    "\n",
    "```pip install ipywidgets```"
   ]
  },
  {
   "cell_type": "markdown",
   "id": "34c024e2-8832-448f-80d2-cab3e4336493",
   "metadata": {},
   "source": [
    "Aqui traremos como exemplo a proteína de código PDB 1PZM, que pode ser encontrada no RCSB PDB ou Protein Data Bank (https://www.rcsb.org/structure/1pzm). Esta base de dados conta mais de 200 mil estruturas tridimensionais de proteínas elucidadas por técnicas como cristalografia por difração de raio-X, microscopia eletrônica ou crio-microscopia eletrônica (técnicas com a capacidade de elucidar a estrutura tridimensional de proteínas).\n",
    "\n",
    "A proteína em questão trata-se de uma Hipoxantina Guanina Fosforribosil Transferase de _Leishamania tarentolae_, uma enzima que faz parte da rota metabólica de recuperação de bases nitrogenadas do tipo guanina (advindas do hospedeiro) e que é essencial para sobrevivência do parasita. Esta proteína está complexada com o GMP (Guanina monofosfato), substrato natural da enzima (**ADICIONAR REFERÊNCIA**)."
   ]
  },
  {
   "cell_type": "code",
   "execution_count": 2,
   "id": "635f1746-3911-4833-b38b-7c2d251ac686",
   "metadata": {
    "scrolled": true
   },
   "outputs": [
    {
     "data": {
      "application/vnd.jupyter.widget-view+json": {
       "model_id": "ed5aa344f25c4bd8bac95aba2688bfc8",
       "version_major": 2,
       "version_minor": 0
      },
      "text/plain": []
     },
     "metadata": {},
     "output_type": "display_data"
    },
    {
     "data": {
      "application/vnd.jupyter.widget-view+json": {
       "model_id": "1bf513d681374b0786203a0bac1ea129",
       "version_major": 2,
       "version_minor": 0
      },
      "text/plain": [
       "NGLWidget()"
      ]
     },
     "metadata": {},
     "output_type": "display_data"
    }
   ],
   "source": [
    "# importa a biblioteca nglview\n",
    "import nglview as nv\n",
    "\n",
    "view = nv.show_pdbid(\"1pzm\") \n",
    "# a proteína de código PDB 1PZM é \n",
    "# carregada do RCSB PDB (https://www.rcsb.org/structure/1pzm)\n",
    "\n",
    "view\n",
    "# a estrutura tridimensional é representada através de um widget"
   ]
  },
  {
   "cell_type": "markdown",
   "id": "bb30c97c-3df5-4eca-b653-a7ce0285856f",
   "metadata": {},
   "source": [
    "### Formas de representar uma proteína"
   ]
  },
  {
   "cell_type": "markdown",
   "id": "0734499c-aa31-4252-8a2d-dbf9cf39e143",
   "metadata": {},
   "source": [
    "Aqui trataremos de uma das etapas mais importantes e legais, pois as cores, as maneiras de representar os aminoácidos ou estruturas secundárias diz muito sobre aquilo que o pesquisador ou usuário quer elucidar."
   ]
  },
  {
   "cell_type": "markdown",
   "id": "42ab4a0e-55ae-4525-9031-45260e8ce18f",
   "metadata": {
    "tags": []
   },
   "source": [
    "#### Alterando a cor de aminoácidos específicos"
   ]
  },
  {
   "cell_type": "code",
   "execution_count": 11,
   "id": "109d4f89-a196-4655-91ee-26087deed9fa",
   "metadata": {},
   "outputs": [
    {
     "data": {
      "application/vnd.jupyter.widget-view+json": {
       "model_id": "f4304ec0f36646f6a5367c62908344b1",
       "version_major": 2,
       "version_minor": 0
      },
      "text/plain": [
       "NGLWidget()"
      ]
     },
     "metadata": {},
     "output_type": "display_data"
    }
   ],
   "source": [
    "# Os aminoácidos 126 até 130 são coloridos de azul, \n",
    "# enquanto os aminoácidos 173 à 180 são coloridos de vermelho.\n",
    "\n",
    "nv.color.ColormakerRegistry.add_selection_scheme(\n",
    "    \"my_custom_scheme\", [[\"green\", \"64-68\"], [\"blue\", \"126-130\"], [\"red\", \"173-180\"]]\n",
    ")\n",
    "\n",
    "view = nv.show_pdbid(\"1pzm\", default_representation=False)\n",
    "view.add_cartoon(color=\"my_custom_scheme\")\n",
    "view.center()\n",
    "view"
   ]
  },
  {
   "cell_type": "markdown",
   "id": "88d464f3-1902-4d3d-b3fd-e6cdab2c7b5b",
   "metadata": {
    "tags": []
   },
   "source": [
    "#### Visualização em superfície"
   ]
  },
  {
   "cell_type": "code",
   "execution_count": 4,
   "id": "780b8ff9-e7d0-4d6c-9c8a-fcf1de47dba8",
   "metadata": {},
   "outputs": [
    {
     "data": {
      "application/vnd.jupyter.widget-view+json": {
       "model_id": "4f83051c7e0f4657b734cfcdd3e7ee62",
       "version_major": 2,
       "version_minor": 0
      },
      "text/plain": [
       "NGLWidget()"
      ]
     },
     "metadata": {},
     "output_type": "display_data"
    }
   ],
   "source": [
    "# uma nova variável é criada\n",
    "\n",
    "view2 = nv.show_pdbid(\"1pzm\")\n",
    "# o método shoe_pdbid é responsável por extrair \n",
    "# o arquivo PDB direto do Protein Data Bank\n",
    "\n",
    "view2"
   ]
  },
  {
   "cell_type": "code",
   "execution_count": 5,
   "id": "b0b1fc8d-f66b-4be8-9953-58cbe2c6c1e8",
   "metadata": {},
   "outputs": [],
   "source": [
    "# a visualização da proteína será em surface\n",
    "# a opacidade permite que seja possível ver a estrutura secundária\n",
    "\n",
    "view2.add_surface(selection=\"protein\", opacity=0.3)"
   ]
  },
  {
   "cell_type": "markdown",
   "id": "5e566018-6ef4-40e7-881b-efa1b3205e6a",
   "metadata": {
    "tags": []
   },
   "source": [
    "#### Visualização em bolas e linhas"
   ]
  },
  {
   "cell_type": "code",
   "execution_count": 6,
   "id": "24ce412b-a748-4807-a269-dd5b2fd7cbb0",
   "metadata": {},
   "outputs": [
    {
     "data": {
      "application/vnd.jupyter.widget-view+json": {
       "model_id": "c79b21a6aa414748a8752ae68a1081da",
       "version_major": 2,
       "version_minor": 0
      },
      "text/plain": [
       "NGLWidget()"
      ]
     },
     "metadata": {},
     "output_type": "display_data"
    }
   ],
   "source": [
    "# uma nova variável é criada\n",
    "\n",
    "view3 = nv.show_pdbid(\"1pzm\")\n",
    "view3"
   ]
  },
  {
   "cell_type": "code",
   "execution_count": 7,
   "id": "8748a07b-e37b-4ac8-9546-4f67ba02506f",
   "metadata": {},
   "outputs": [],
   "source": [
    "# Aqui exibimos cada um dos aminoácidos em formato de linhas e bolas\n",
    "view3.add_ball_and_stick(selection=\"protein\")"
   ]
  },
  {
   "cell_type": "markdown",
   "id": "72a30e44-bb06-4c6f-9b38-6f0e41583b2d",
   "metadata": {},
   "source": [
    "Assim, a forma de representar dependerá do interesse do usuário ou pesquisador."
   ]
  }
 ],
 "metadata": {
  "kernelspec": {
   "display_name": "Python 3 (ipykernel)",
   "language": "python",
   "name": "python3"
  },
  "language_info": {
   "codemirror_mode": {
    "name": "ipython",
    "version": 3
   },
   "file_extension": ".py",
   "mimetype": "text/x-python",
   "name": "python",
   "nbconvert_exporter": "python",
   "pygments_lexer": "ipython3",
   "version": "3.10.9"
  }
 },
 "nbformat": 4,
 "nbformat_minor": 5
}
